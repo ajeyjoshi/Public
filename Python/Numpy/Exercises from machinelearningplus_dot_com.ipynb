{
 "cells": [
  {
   "cell_type": "markdown",
   "metadata": {},
   "source": [
    "### Excersises from\n",
    "\n",
    "https://www.machinelearningplus.com/python/101-numpy-exercises-python/\n"
   ]
  },
  {
   "cell_type": "markdown",
   "metadata": {},
   "source": [
    "#### 1. Import numpy as np and print the version number."
   ]
  },
  {
   "cell_type": "code",
   "execution_count": 1,
   "metadata": {},
   "outputs": [
    {
     "name": "stdout",
     "output_type": "stream",
     "text": [
      "1.18.1\n"
     ]
    }
   ],
   "source": [
    "import numpy\n",
    "\n",
    "print(numpy.__version__)"
   ]
  },
  {
   "cell_type": "code",
   "execution_count": 2,
   "metadata": {},
   "outputs": [
    {
     "name": "stdout",
     "output_type": "stream",
     "text": [
      "type(numpy.__version__)\n",
      "<class 'str'>\n",
      "\n",
      "Lets see what we get by just printing numpy\n",
      "<module 'numpy' from 'C:\\\\Users\\\\ajeyj\\\\anaconda3\\\\lib\\\\site-packages\\\\numpy\\\\__init__.py'>\n"
     ]
    }
   ],
   "source": [
    "# additional\n",
    "print(\"type(numpy.__version__)\")\n",
    "print(type(numpy.__version__), end=\"\\n\\n\")\n",
    "\n",
    "print(\"Lets see what we get by just printing numpy\")\n",
    "print(numpy)"
   ]
  },
  {
   "cell_type": "markdown",
   "metadata": {},
   "source": [
    "#### 2. Create a 1D array of numbers from 0 to 9"
   ]
  },
  {
   "cell_type": "code",
   "execution_count": 3,
   "metadata": {},
   "outputs": [
    {
     "name": "stdout",
     "output_type": "stream",
     "text": [
      "array :  [0 1 2 3 4 5 6 7 8 9]\n",
      "shape :  (10,)\n",
      "\n"
     ]
    }
   ],
   "source": [
    "_1d_array = numpy.array([0, 1, 2, 3, 4, 5, 6, 7, 8, 9])\n",
    "print(\"array : \", _1d_array)\n",
    "print(\"shape : \", _1d_array.shape, end=\"\\n\\n\")"
   ]
  },
  {
   "cell_type": "code",
   "execution_count": 4,
   "metadata": {},
   "outputs": [
    {
     "name": "stdout",
     "output_type": "stream",
     "text": [
      "_1d_array = numpy.empty((1,))\n",
      "array :  [0.0078125]\n",
      "shape :  (1,)\n",
      "\n",
      "_1d_array = numpy.full((1,), fill_value=0)\n",
      "array :  [0]\n",
      "shape :  (1,)\n",
      "\n",
      "_1d_array = numpy.zeros((1,))\n",
      "array :  [0.]\n",
      "shape :  (1,)\n",
      "\n",
      "_1d_array = numpy.empty((0,))\n",
      "array :  []\n",
      "shape :  (0,)\n",
      "\n",
      "_1d_array = numpy.array([])\n",
      "array :  []\n",
      "shape :  (0,)\n",
      "\n",
      "_1d_array = numpy.array([1])\n",
      "array :  [1]\n",
      "shape :  (1,)\n",
      "\n"
     ]
    }
   ],
   "source": [
    "# additional\n",
    "_1d_array = numpy.empty((1,))\n",
    "print(\"_1d_array = numpy.empty((1,))\")\n",
    "print(\"array : \", _1d_array)\n",
    "print(\"shape : \", _1d_array.shape, end=\"\\n\\n\")\n",
    "\n",
    "_1d_array = numpy.full((1,), fill_value=0)\n",
    "print(\"_1d_array = numpy.full((1,), fill_value=0)\")\n",
    "print(\"array : \", _1d_array)\n",
    "print(\"shape : \", _1d_array.shape, end=\"\\n\\n\")\n",
    "\n",
    "_1d_array = numpy.zeros((1,))\n",
    "print(\"_1d_array = numpy.zeros((1,))\")\n",
    "print(\"array : \", _1d_array)\n",
    "print(\"shape : \", _1d_array.shape, end=\"\\n\\n\")\n",
    "\n",
    "_1d_array = numpy.empty((0,))\n",
    "print(\"_1d_array = numpy.empty((0,))\")\n",
    "print(\"array : \", _1d_array)\n",
    "print(\"shape : \", _1d_array.shape, end=\"\\n\\n\")\n",
    "\n",
    "_1d_array = numpy.array([])\n",
    "print(\"_1d_array = numpy.array([])\")\n",
    "print(\"array : \", _1d_array)\n",
    "print(\"shape : \", _1d_array.shape, end=\"\\n\\n\")\n",
    "\n",
    "_1d_array = numpy.array([1])\n",
    "print(\"_1d_array = numpy.array([1])\")\n",
    "print(\"array : \", _1d_array)\n",
    "print(\"shape : \", _1d_array.shape, end=\"\\n\\n\")"
   ]
  },
  {
   "cell_type": "markdown",
   "metadata": {},
   "source": [
    "#### 3. Create a 3×3 numpy array of all True’s"
   ]
  },
  {
   "cell_type": "code",
   "execution_count": 5,
   "metadata": {},
   "outputs": [
    {
     "name": "stdout",
     "output_type": "stream",
     "text": [
      "[[ True  True  True]\n",
      " [ True  True  True]\n",
      " [ True  True  True]]\n",
      "bool\n"
     ]
    }
   ],
   "source": [
    "_3_3_arr = numpy.full((3,3), fill_value=True)\n",
    "print(_3_3_arr)\n",
    "print(_3_3_arr.dtype)"
   ]
  },
  {
   "cell_type": "code",
   "execution_count": 6,
   "metadata": {},
   "outputs": [
    {
     "name": "stdout",
     "output_type": "stream",
     "text": [
      "[[ True  True  True]\n",
      " [ True  True  True]\n",
      " [False False False]]\n",
      "bool\n"
     ]
    }
   ],
   "source": [
    "# additional\n",
    "\"\"\"\n",
    "Note:\n",
    "https://docs.scipy.org/doc/numpy/reference/generated/numpy.empty.html\n",
    "\n",
    "Array of uninitialized (arbitrary) data of the given shape, dtype, and order. \n",
    "Object arrays will be initialized to None.\n",
    "\n",
    "\"\"\"\n",
    "\n",
    "_3_3_arr = numpy.empty((3,3), dtype=bool)\n",
    "print(_3_3_arr)\n",
    "print(_3_3_arr.dtype)\n",
    "\n"
   ]
  },
  {
   "cell_type": "markdown",
   "metadata": {},
   "source": [
    "#### Extract all odd numbers from arr"
   ]
  },
  {
   "cell_type": "code",
   "execution_count": 7,
   "metadata": {},
   "outputs": [
    {
     "name": "stdout",
     "output_type": "stream",
     "text": [
      "[1 3 5 7 9]\n"
     ]
    }
   ],
   "source": [
    "arr = numpy.array([0, 1, 2, 3, 4, 5, 6, 7, 8, 9])\n",
    "odd = numpy.array([a for a in range(0, len(arr)) if a % 2])\n",
    "print(odd)"
   ]
  },
  {
   "cell_type": "code",
   "execution_count": 9,
   "metadata": {},
   "outputs": [
    {
     "name": "stdout",
     "output_type": "stream",
     "text": [
      "[1 3 5 7 9]\n"
     ]
    }
   ],
   "source": [
    "# additional\n",
    "arr = numpy.array([0, 1, 2, 3, 4, 5, 6, 7, 8, 9])\n",
    "arr = arr[arr % 2 == 1]\n",
    "print(arr)"
   ]
  },
  {
   "cell_type": "markdown",
   "metadata": {},
   "source": [
    "#### Replace all odd numbers in arr with -1"
   ]
  },
  {
   "cell_type": "code",
   "execution_count": 17,
   "metadata": {},
   "outputs": [
    {
     "name": "stdout",
     "output_type": "stream",
     "text": [
      "[ 0 -1  2 -1  4 -1  6 -1  8 -1]\n"
     ]
    }
   ],
   "source": [
    "arr = numpy.array([0, 1, 2, 3, 4, 5, 6, 7, 8, 9])\n",
    "arr[arr % 2 == 1] = -1\n",
    "print(arr)"
   ]
  }
 ],
 "metadata": {
  "kernelspec": {
   "display_name": "Python 3",
   "language": "python",
   "name": "python3"
  },
  "language_info": {
   "codemirror_mode": {
    "name": "ipython",
    "version": 3
   },
   "file_extension": ".py",
   "mimetype": "text/x-python",
   "name": "python",
   "nbconvert_exporter": "python",
   "pygments_lexer": "ipython3",
   "version": "3.7.6"
  }
 },
 "nbformat": 4,
 "nbformat_minor": 4
}
